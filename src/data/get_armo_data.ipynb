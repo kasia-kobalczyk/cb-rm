{
 "cells": [
  {
   "cell_type": "code",
   "execution_count": 25,
   "metadata": {},
   "outputs": [],
   "source": [
    "from safetensors.torch import load_file\n",
    "import torch\n",
    "import os\n",
    "import glob\n",
    "from datasets import Dataset, load_from_disk, load_dataset\n",
    "\n",
    "# Modify this to your shard path pattern\n",
    "shard_pattern = \"/mnt/pdata/sonia111/ArmoRM/embedding_all_prompt/FsfairX-LLaMA3-RM-v0.1/ArmoRM-Multi-Objective-Data-v0.1-*.safetensors\"\n",
    "shard_files = sorted(glob.glob(shard_pattern))\n",
    "\n",
    "embeddings, prompt_embeddings, labels = [], [], []\n",
    "\n",
    "for path in shard_files:\n",
    "    data = load_file(path)\n",
    "    embeddings.append(data['embeddings'])\n",
    "    prompt_embeddings.append(data['prompt_embeddings'])\n",
    "    labels.append(data['labels'])\n",
    "\n",
    "embeddings = torch.cat(embeddings, dim=0)\n",
    "prompt_embeddings = torch.cat(prompt_embeddings, dim=0)\n",
    "labels = torch.cat(labels, dim=0)\n",
    "root = \"/mnt/pdata/knk25/active_pref_learning\""
   ]
  },
  {
   "cell_type": "code",
   "execution_count": 26,
   "metadata": {},
   "outputs": [],
   "source": [
    "from datasets import Dataset, load_from_disk, load_dataset\n",
    "dets = \"/mnt/pdata/sonia111/ArmoRM/embedding_all_prompt/armo_pairs_pref_concepts\"\n",
    "data_labels = load_from_disk(dets)"
   ]
  },
  {
   "cell_type": "code",
   "execution_count": 27,
   "metadata": {},
   "outputs": [],
   "source": [
    "labels_df = data_labels.to_pandas()[['idx_a', 'idx_b', 'relative_concept_labels']].copy()"
   ]
  },
  {
   "cell_type": "code",
   "execution_count": 28,
   "metadata": {},
   "outputs": [],
   "source": [
    "reward_cols = [\n",
    "    \"helpsteer-helpfulness\", \"helpsteer-correctness\", \"helpsteer-coherence\", \"helpsteer-complexity\", \"helpsteer-verbosity\",\n",
    "    \"ultrafeedback-overall_score\", \"ultrafeedback-instruction_following\", \"ultrafeedback-truthfulness\", \"ultrafeedback-honesty\", \"ultrafeedback-helpfulness\",\n",
    "    \"beavertails-is_safe\", \"prometheus-score\",\n",
    "    \"argilla-overall_quality\", \"argilla-judge_lm\",\n",
    "    \"code-complexity\", \"code-style\", \"code-explanation\", \"code-instruction-following\", \"code-readability\"\n",
    "]\n",
    "\n",
    "# Add a new column with the same list for every row\n",
    "labels_df['concept_names'] = [reward_cols] * len(labels_df)\n"
   ]
  },
  {
   "cell_type": "code",
   "execution_count": 29,
   "metadata": {},
   "outputs": [
    {
     "data": {
      "text/html": [
       "<div>\n",
       "<style scoped>\n",
       "    .dataframe tbody tr th:only-of-type {\n",
       "        vertical-align: middle;\n",
       "    }\n",
       "\n",
       "    .dataframe tbody tr th {\n",
       "        vertical-align: top;\n",
       "    }\n",
       "\n",
       "    .dataframe thead th {\n",
       "        text-align: right;\n",
       "    }\n",
       "</style>\n",
       "<table border=\"1\" class=\"dataframe\">\n",
       "  <thead>\n",
       "    <tr style=\"text-align: right;\">\n",
       "      <th></th>\n",
       "      <th>idx_a</th>\n",
       "      <th>idx_b</th>\n",
       "      <th>relative_concept_labels</th>\n",
       "      <th>concept_names</th>\n",
       "    </tr>\n",
       "  </thead>\n",
       "  <tbody>\n",
       "    <tr>\n",
       "      <th>0</th>\n",
       "      <td>88841</td>\n",
       "      <td>197814</td>\n",
       "      <td>[-1.0, -1.0, -1.0, -1.0, -1.0, -1.0, -1.0, -1....</td>\n",
       "      <td>[helpsteer-helpfulness, helpsteer-correctness,...</td>\n",
       "    </tr>\n",
       "    <tr>\n",
       "      <th>1</th>\n",
       "      <td>178251</td>\n",
       "      <td>246231</td>\n",
       "      <td>[-1.0, -1.0, -1.0, -1.0, -1.0, 0.6000000000000...</td>\n",
       "      <td>[helpsteer-helpfulness, helpsteer-correctness,...</td>\n",
       "    </tr>\n",
       "    <tr>\n",
       "      <th>2</th>\n",
       "      <td>178251</td>\n",
       "      <td>373904</td>\n",
       "      <td>[-1.0, -1.0, -1.0, -1.0, -1.0, 0.5, 0.7, 0.4, ...</td>\n",
       "      <td>[helpsteer-helpfulness, helpsteer-correctness,...</td>\n",
       "    </tr>\n",
       "    <tr>\n",
       "      <th>3</th>\n",
       "      <td>178251</td>\n",
       "      <td>386973</td>\n",
       "      <td>[-1.0, -1.0, -1.0, -1.0, -1.0, 0.3500000000000...</td>\n",
       "      <td>[helpsteer-helpfulness, helpsteer-correctness,...</td>\n",
       "    </tr>\n",
       "    <tr>\n",
       "      <th>4</th>\n",
       "      <td>246231</td>\n",
       "      <td>373904</td>\n",
       "      <td>[-1.0, -1.0, -1.0, -1.0, -1.0, 0.3999999999999...</td>\n",
       "      <td>[helpsteer-helpfulness, helpsteer-correctness,...</td>\n",
       "    </tr>\n",
       "    <tr>\n",
       "      <th>...</th>\n",
       "      <td>...</td>\n",
       "      <td>...</td>\n",
       "      <td>...</td>\n",
       "      <td>...</td>\n",
       "    </tr>\n",
       "    <tr>\n",
       "      <th>1019327</th>\n",
       "      <td>73321</td>\n",
       "      <td>186383</td>\n",
       "      <td>[-1.0, -1.0, -1.0, -1.0, -1.0, 0.4499999999999...</td>\n",
       "      <td>[helpsteer-helpfulness, helpsteer-correctness,...</td>\n",
       "    </tr>\n",
       "    <tr>\n",
       "      <th>1019328</th>\n",
       "      <td>73321</td>\n",
       "      <td>230013</td>\n",
       "      <td>[-1.0, -1.0, -1.0, -1.0, -1.0, 0.5, 0.5, 0.300...</td>\n",
       "      <td>[helpsteer-helpfulness, helpsteer-correctness,...</td>\n",
       "    </tr>\n",
       "    <tr>\n",
       "      <th>1019329</th>\n",
       "      <td>77062</td>\n",
       "      <td>186383</td>\n",
       "      <td>[-1.0, -1.0, -1.0, -1.0, -1.0, 0.5, 0.5, 0.5, ...</td>\n",
       "      <td>[helpsteer-helpfulness, helpsteer-correctness,...</td>\n",
       "    </tr>\n",
       "    <tr>\n",
       "      <th>1019330</th>\n",
       "      <td>77062</td>\n",
       "      <td>230013</td>\n",
       "      <td>[-1.0, -1.0, -1.0, -1.0, -1.0, 0.55, 0.5, 0.5,...</td>\n",
       "      <td>[helpsteer-helpfulness, helpsteer-correctness,...</td>\n",
       "    </tr>\n",
       "    <tr>\n",
       "      <th>1019331</th>\n",
       "      <td>186383</td>\n",
       "      <td>230013</td>\n",
       "      <td>[-1.0, -1.0, -1.0, -1.0, -1.0, 0.55, 0.5, 0.5,...</td>\n",
       "      <td>[helpsteer-helpfulness, helpsteer-correctness,...</td>\n",
       "    </tr>\n",
       "  </tbody>\n",
       "</table>\n",
       "<p>1019332 rows × 4 columns</p>\n",
       "</div>"
      ],
      "text/plain": [
       "          idx_a   idx_b                            relative_concept_labels  \\\n",
       "0         88841  197814  [-1.0, -1.0, -1.0, -1.0, -1.0, -1.0, -1.0, -1....   \n",
       "1        178251  246231  [-1.0, -1.0, -1.0, -1.0, -1.0, 0.6000000000000...   \n",
       "2        178251  373904  [-1.0, -1.0, -1.0, -1.0, -1.0, 0.5, 0.7, 0.4, ...   \n",
       "3        178251  386973  [-1.0, -1.0, -1.0, -1.0, -1.0, 0.3500000000000...   \n",
       "4        246231  373904  [-1.0, -1.0, -1.0, -1.0, -1.0, 0.3999999999999...   \n",
       "...         ...     ...                                                ...   \n",
       "1019327   73321  186383  [-1.0, -1.0, -1.0, -1.0, -1.0, 0.4499999999999...   \n",
       "1019328   73321  230013  [-1.0, -1.0, -1.0, -1.0, -1.0, 0.5, 0.5, 0.300...   \n",
       "1019329   77062  186383  [-1.0, -1.0, -1.0, -1.0, -1.0, 0.5, 0.5, 0.5, ...   \n",
       "1019330   77062  230013  [-1.0, -1.0, -1.0, -1.0, -1.0, 0.55, 0.5, 0.5,...   \n",
       "1019331  186383  230013  [-1.0, -1.0, -1.0, -1.0, -1.0, 0.55, 0.5, 0.5,...   \n",
       "\n",
       "                                             concept_names  \n",
       "0        [helpsteer-helpfulness, helpsteer-correctness,...  \n",
       "1        [helpsteer-helpfulness, helpsteer-correctness,...  \n",
       "2        [helpsteer-helpfulness, helpsteer-correctness,...  \n",
       "3        [helpsteer-helpfulness, helpsteer-correctness,...  \n",
       "4        [helpsteer-helpfulness, helpsteer-correctness,...  \n",
       "...                                                    ...  \n",
       "1019327  [helpsteer-helpfulness, helpsteer-correctness,...  \n",
       "1019328  [helpsteer-helpfulness, helpsteer-correctness,...  \n",
       "1019329  [helpsteer-helpfulness, helpsteer-correctness,...  \n",
       "1019330  [helpsteer-helpfulness, helpsteer-correctness,...  \n",
       "1019331  [helpsteer-helpfulness, helpsteer-correctness,...  \n",
       "\n",
       "[1019332 rows x 4 columns]"
      ]
     },
     "execution_count": 29,
     "metadata": {},
     "output_type": "execute_result"
    }
   ],
   "source": [
    "labels_df"
   ]
  },
  {
   "cell_type": "code",
   "execution_count": null,
   "metadata": {},
   "outputs": [],
   "source": [
    "labels_ds = Dataset.from_pandas(labels_df)\n",
    "labels_ds.save_to_disk(f\"{root}/datasets/armo-rm/concept_labels/armo-rm\")"
   ]
  },
  {
   "cell_type": "code",
   "execution_count": 31,
   "metadata": {},
   "outputs": [],
   "source": [
    "labels_df = data_labels.to_pandas()[['idx_a', 'idx_b', 'preference_label']].copy()"
   ]
  },
  {
   "cell_type": "code",
   "execution_count": 32,
   "metadata": {},
   "outputs": [
    {
     "data": {
      "text/html": [
       "<div>\n",
       "<style scoped>\n",
       "    .dataframe tbody tr th:only-of-type {\n",
       "        vertical-align: middle;\n",
       "    }\n",
       "\n",
       "    .dataframe tbody tr th {\n",
       "        vertical-align: top;\n",
       "    }\n",
       "\n",
       "    .dataframe thead th {\n",
       "        text-align: right;\n",
       "    }\n",
       "</style>\n",
       "<table border=\"1\" class=\"dataframe\">\n",
       "  <thead>\n",
       "    <tr style=\"text-align: right;\">\n",
       "      <th></th>\n",
       "      <th>idx_a</th>\n",
       "      <th>idx_b</th>\n",
       "      <th>preference_label</th>\n",
       "    </tr>\n",
       "  </thead>\n",
       "  <tbody>\n",
       "    <tr>\n",
       "      <th>0</th>\n",
       "      <td>88841</td>\n",
       "      <td>197814</td>\n",
       "      <td>0</td>\n",
       "    </tr>\n",
       "    <tr>\n",
       "      <th>1</th>\n",
       "      <td>178251</td>\n",
       "      <td>246231</td>\n",
       "      <td>0</td>\n",
       "    </tr>\n",
       "    <tr>\n",
       "      <th>2</th>\n",
       "      <td>178251</td>\n",
       "      <td>373904</td>\n",
       "      <td>0</td>\n",
       "    </tr>\n",
       "    <tr>\n",
       "      <th>3</th>\n",
       "      <td>178251</td>\n",
       "      <td>386973</td>\n",
       "      <td>0</td>\n",
       "    </tr>\n",
       "    <tr>\n",
       "      <th>4</th>\n",
       "      <td>246231</td>\n",
       "      <td>373904</td>\n",
       "      <td>1</td>\n",
       "    </tr>\n",
       "    <tr>\n",
       "      <th>...</th>\n",
       "      <td>...</td>\n",
       "      <td>...</td>\n",
       "      <td>...</td>\n",
       "    </tr>\n",
       "    <tr>\n",
       "      <th>1019327</th>\n",
       "      <td>73321</td>\n",
       "      <td>186383</td>\n",
       "      <td>0</td>\n",
       "    </tr>\n",
       "    <tr>\n",
       "      <th>1019328</th>\n",
       "      <td>73321</td>\n",
       "      <td>230013</td>\n",
       "      <td>0</td>\n",
       "    </tr>\n",
       "    <tr>\n",
       "      <th>1019329</th>\n",
       "      <td>77062</td>\n",
       "      <td>186383</td>\n",
       "      <td>0</td>\n",
       "    </tr>\n",
       "    <tr>\n",
       "      <th>1019330</th>\n",
       "      <td>77062</td>\n",
       "      <td>230013</td>\n",
       "      <td>1</td>\n",
       "    </tr>\n",
       "    <tr>\n",
       "      <th>1019331</th>\n",
       "      <td>186383</td>\n",
       "      <td>230013</td>\n",
       "      <td>1</td>\n",
       "    </tr>\n",
       "  </tbody>\n",
       "</table>\n",
       "<p>1019332 rows × 3 columns</p>\n",
       "</div>"
      ],
      "text/plain": [
       "          idx_a   idx_b  preference_label\n",
       "0         88841  197814                 0\n",
       "1        178251  246231                 0\n",
       "2        178251  373904                 0\n",
       "3        178251  386973                 0\n",
       "4        246231  373904                 1\n",
       "...         ...     ...               ...\n",
       "1019327   73321  186383                 0\n",
       "1019328   73321  230013                 0\n",
       "1019329   77062  186383                 0\n",
       "1019330   77062  230013                 1\n",
       "1019331  186383  230013                 1\n",
       "\n",
       "[1019332 rows x 3 columns]"
      ]
     },
     "execution_count": 32,
     "metadata": {},
     "output_type": "execute_result"
    }
   ],
   "source": [
    "labels_df"
   ]
  },
  {
   "cell_type": "code",
   "execution_count": null,
   "metadata": {},
   "outputs": [],
   "source": [
    "# Save to disk\n",
    "labels_ds = Dataset.from_pandas(labels_df)\n",
    "labels_ds.save_to_disk(f\"{root}/datasets/armo-rm/preference_labels/armo-rm\")"
   ]
  },
  {
   "cell_type": "code",
   "execution_count": 34,
   "metadata": {},
   "outputs": [],
   "source": [
    "pairs_df = data_labels.to_pandas()[['idx_a', 'idx_b']].copy()"
   ]
  },
  {
   "cell_type": "code",
   "execution_count": 35,
   "metadata": {},
   "outputs": [
    {
     "name": "stdout",
     "output_type": "stream",
     "text": [
      "1019332\n"
     ]
    }
   ],
   "source": [
    "print(len(pairs_df))"
   ]
  },
  {
   "cell_type": "code",
   "execution_count": 36,
   "metadata": {},
   "outputs": [],
   "source": [
    "import numpy as np\n",
    "splits_df = pairs_df[['idx_a', 'idx_b']].copy()\n",
    "splits_df['split'] = np.random.choice(['train', 'val', 'test'], p=[0.7, 0.1, 0.2])\n",
    "splits_df.to_csv(f\"{root}/datasets/armo-rm/splits.csv\", index=False)"
   ]
  },
  {
   "cell_type": "code",
   "execution_count": 37,
   "metadata": {},
   "outputs": [],
   "source": [
    "splits_df = pairs_df[['idx_a', 'idx_b']].copy()\n",
    "splits_df = splits_df.sample(frac=0.1, random_state=42)\n",
    "splits_df['split'] = np.random.choice(['train', 'val', 'test'], p=[0.7, 0.1, 0.2])\n",
    "splits_df.to_csv(f\"{root}/datasets/armo-rm/small_splits.csv\", index=False)"
   ]
  }
 ],
 "metadata": {
  "kernelspec": {
   "display_name": "cb_rm",
   "language": "python",
   "name": "python3"
  },
  "language_info": {
   "codemirror_mode": {
    "name": "ipython",
    "version": 3
   },
   "file_extension": ".py",
   "mimetype": "text/x-python",
   "name": "python",
   "nbconvert_exporter": "python",
   "pygments_lexer": "ipython3",
   "version": "3.8.19"
  }
 },
 "nbformat": 4,
 "nbformat_minor": 2
}
